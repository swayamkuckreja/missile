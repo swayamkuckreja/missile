{
 "cells": [
  {
   "cell_type": "code",
   "execution_count": 1,
   "id": "0f2fd981",
   "metadata": {},
   "outputs": [],
   "source": [
    "import cv2 as cv\n",
    "import numpy as np"
   ]
  },
  {
   "cell_type": "code",
   "execution_count": 3,
   "id": "a7a47f46",
   "metadata": {},
   "outputs": [],
   "source": [
    "# Load an image from file\n",
    "img = cv.imread(\"my_photo.jpg\")   # reads as a NumPy array (matrix of pixels)\n",
    "\n",
    "# Show it in a window\n",
    "cv.imshow(\"Original\", img)\n",
    "cv.waitKey(0)   # waits until you press a key\n",
    "cv.destroyAllWindows()\n",
    "\n",
    "# Convert to grayscale\n",
    "gray = cv.cvtColor(img, cv.COLOR_BGR2GRAY)\n",
    "cv.imshow(\"Grayscale\", gray)\n",
    "cv.waitKey(0)\n",
    "\n",
    "# Detect edges\n",
    "edges = cv.Canny(gray, 100, 200)  # thresholds for edge strength\n",
    "cv.imshow(\"Edges\", edges)\n",
    "cv.waitKey(0)\n",
    "cv.destroyAllWindows()\n"
   ]
  },
  {
   "cell_type": "code",
   "execution_count": 6,
   "id": "7233f733",
   "metadata": {},
   "outputs": [],
   "source": [
    "import cv2 as cv\n",
    "import numpy as np\n",
    "\n",
    "img = cv.imread(\"aerial.jpg\")\n",
    "hsv = cv.cvtColor(img, cv.COLOR_BGR2HSV)  # HSV is easier for color filtering\n",
    "\n",
    "# Define \"green\" range in HSV\n",
    "lower_green = np.array([25, 40, 40])\n",
    "upper_green = np.array([40, 255, 255])\n",
    "\n",
    "mask = cv.inRange(hsv, lower_green, upper_green)  # white=green pixels, black=else\n",
    "result = cv.bitwise_and(img, img, mask=mask)     # apply mask to original image\n",
    "\n",
    "cv.imshow(\"Original\", img)\n",
    "cv.imshow(\"Mask\", mask)\n",
    "cv.imshow(\"Green Areas\", result)\n",
    "cv.waitKey(0)\n",
    "cv.destroyAllWindows()"
   ]
  },
  {
   "cell_type": "code",
   "execution_count": null,
   "id": "27c3e1ab",
   "metadata": {},
   "outputs": [],
   "source": []
  }
 ],
 "metadata": {
  "kernelspec": {
   "display_name": "Python 3",
   "language": "python",
   "name": "python3"
  },
  "language_info": {
   "codemirror_mode": {
    "name": "ipython",
    "version": 3
   },
   "file_extension": ".py",
   "mimetype": "text/x-python",
   "name": "python",
   "nbconvert_exporter": "python",
   "pygments_lexer": "ipython3",
   "version": "3.13.4"
  }
 },
 "nbformat": 4,
 "nbformat_minor": 5
}
